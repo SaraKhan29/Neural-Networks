{
 "cells": [
  {
   "cell_type": "markdown",
   "metadata": {
    "colab_type": "text",
    "id": "RCmOkg4UbkwK"
   },
   "source": [
    "# NNIA 18/19 Project 3:  Regularization and Data Augmentation"
   ]
  },
  {
   "cell_type": "markdown",
   "metadata": {
    "colab_type": "text",
    "id": "OQ8HH3TLbkwM"
   },
   "source": [
    "## 1. Dropout$~$ (9 points)"
   ]
  },
  {
   "cell_type": "markdown",
   "metadata": {
    "colab_type": "text",
    "id": "qomGK09JbkwN"
   },
   "source": [
    "In the following exercise you would use an already implemented **feed-forward network** using **only** Numpy. We will add here the dropout regualrization technique that you learned about in the lecture.\n",
    "\n",
    "The goal is to implement dropout for layer 2 in the provided three-layers network."
   ]
  },
  {
   "cell_type": "markdown",
   "metadata": {
    "colab_type": "text",
    "id": "fQbmkUwobkwP"
   },
   "source": [
    "Before you start, here is a simple introduction about dropout. Dropout is a regualization technique that performs random dropping of neurons with a certain probability at each mini-batch in training time. Introducing such randomness or noise at training is helpful to make the network not fully dependent on the training set and therefore, it could generalize better to other unseen data. \n",
    "\n",
    "A simple dropout implementation creates a mask ($r^{(l)}_j$) for every neuron $j$ of the hidden layer $l$ by drawing from a [Bernoulli distribution](https://en.wikipedia.org/wiki/Bernoulli_distribution) with probability $p$, where $p$ is the probability of keeping neurons. You can think of it as a coin flip for each neuron with a probability $p$ to determine if that neuron will be kept or not. For more information, refer to section 7.12 in Deep Learning book.\n",
    "\n",
    "$$ r^{(l)}_j \\sim Bernoulli(p) $$\n",
    "This mask is then applied to the hidden layer output ($h^{(l)}$) to obtain the regularized hidden layer activation $\\hat{h}^{(l)}$\n",
    "$$ \\hat{h}^{(l)} = r^{(l)} * h^{(l)}$$\n",
    "However, such an implementation requires the layer to be multiplied by the dropout coefficient $p$ at evaluation time to balance the larger number of active units during testing.\n",
    "$$ \\hat{h}^{(l)} = p * h^{(l)}$$\n",
    "Such an implementation requires the code to switch between different code blocks for forward-pass evaluation during training and testing. Hence, a smoother way to implement dropout is to use ***inverted dropout*** where the mask generated at the training is multiplied by the inverse of the dropout coefficient.\n",
    "$$ r^{(l)}_j \\sim Bernoulli(p) * \\frac{1}{p}$$\n",
    "This scheme allows the scaling to be learned during training and hence, no switching between code blocks is required. The idea of using inverted dropout is to provide a form of normalization; when dropping out neurons during training, we are now giving the network less neurons that what it will have in the test time. So, dividing by the keep_probs is done to scale the training so that we will not need to do anything in test time. \n",
    "\n",
    "a) The following code implements a simple one-hiddien-layer neural network similar to what you have done in project 2. Update this code to implement inverted dropout for a hidden layer size of 50 neurons (sections to be updated are marked with TODO). Make sure to handle forward and backward passes and handle inference time as well (5.5 points)\n"
   ]
  },
  {
   "cell_type": "code",
   "execution_count": 0,
   "metadata": {
    "colab": {},
    "colab_type": "code",
    "collapsed": true,
    "id": "pWGVVrT7bkwR"
   },
   "outputs": [],
   "source": [
    "import os\n",
    "import struct\n",
    "import numpy as np\n",
    "import tensorflow as tf\n",
    "\n",
    "import warnings\n",
    "warnings.filterwarnings('ignore')\n",
    "\n",
    "fashion_mnist = tf.keras.datasets.fashion_mnist\n",
    "(X_trainval, Y_trainval), (X_test, Y_test) = fashion_mnist.load_data()"
   ]
  },
  {
   "cell_type": "code",
   "execution_count": 0,
   "metadata": {
    "colab": {},
    "colab_type": "code",
    "id": "c3Tkkoo0bkwV",
    "outputId": "3b736c6b-b2cf-4372-99d8-bfb28b9aa151"
   },
   "outputs": [
    {
     "name": "stdout",
     "output_type": "stream",
     "text": [
      "(60000, 28, 28)\n"
     ]
    }
   ],
   "source": [
    "print(X_trainval.shape)"
   ]
  },
  {
   "cell_type": "code",
   "execution_count": 0,
   "metadata": {
    "colab": {},
    "colab_type": "code",
    "id": "sqHF87ewbkwd",
    "outputId": "10b0bc5c-a5fe-4983-8a62-0f52b03ea606"
   },
   "outputs": [
    {
     "name": "stdout",
     "output_type": "stream",
     "text": [
      "The X_trainval has the following shape:\n",
      "Rows: 60000, columns: 784\n"
     ]
    }
   ],
   "source": [
    "X_trainval = np.reshape(X_trainval, (X_trainval.shape[0],  X_trainval.shape[1] *  X_trainval.shape[2]))\n",
    "print('The X_trainval has the following shape:')\n",
    "print('Rows: %d, columns: %d' % (X_trainval.shape[0], X_trainval.shape[1]))"
   ]
  },
  {
   "cell_type": "code",
   "execution_count": 0,
   "metadata": {
    "colab": {},
    "colab_type": "code",
    "id": "-8zP7D-_bkwi",
    "outputId": "192fbd1d-3abf-40c2-cd6f-32feded43dbd"
   },
   "outputs": [
    {
     "name": "stdout",
     "output_type": "stream",
     "text": [
      "The X_test has the following shape:\n",
      "Rows: 10000, columns: 784\n"
     ]
    }
   ],
   "source": [
    "X_test = np.reshape(X_test, (X_test.shape[0],  X_test.shape[1] *  X_test.shape[2]))\n",
    "print('The X_test has the following shape:')\n",
    "print('Rows: %d, columns: %d' % (X_test.shape[0], X_test.shape[1]))"
   ]
  },
  {
   "cell_type": "markdown",
   "metadata": {
    "colab_type": "text",
    "id": "XesRINc-bkwl"
   },
   "source": [
    "- Normalize the data. Subtract the mean and divide by the standard deviation."
   ]
  },
  {
   "cell_type": "code",
   "execution_count": 0,
   "metadata": {
    "colab": {},
    "colab_type": "code",
    "collapsed": true,
    "id": "bjzaDPQmbkwn"
   },
   "outputs": [],
   "source": [
    "def data_normalization(X_trainval, X_test):\n",
    "    feature_means = X_trainval.mean(axis = 0)\n",
    "    feature_std = np.std(X_trainval, axis = 0)\n",
    "    X_trainval_normalized = (X_trainval - feature_means) / feature_std\n",
    "    X_test_normalized = (X_test - feature_means) / feature_std\n",
    "    return X_trainval_normalized, X_test_normalized"
   ]
  },
  {
   "cell_type": "code",
   "execution_count": 0,
   "metadata": {
    "colab": {},
    "colab_type": "code",
    "id": "GZRwB8rcbkwq",
    "outputId": "1cb58364-c4f0-4658-87ee-dfd80d3edccc"
   },
   "outputs": [
    {
     "name": "stdout",
     "output_type": "stream",
     "text": [
      "(60000, 784)\n",
      "(10000, 784)\n"
     ]
    }
   ],
   "source": [
    "# The normalization should be done on X_train and X_test\n",
    "# and normalized data should have the exactly same shape as the original data matrix.\n",
    "\n",
    "X_trainval, X_test = data_normalization(X_trainval, X_test)\n",
    "print(X_trainval.shape)\n",
    "print(X_test.shape)"
   ]
  },
  {
   "cell_type": "code",
   "execution_count": 0,
   "metadata": {
    "colab": {},
    "colab_type": "code",
    "collapsed": true,
    "id": "Si0vfdu4bkwu"
   },
   "outputs": [],
   "source": [
    "from __future__ import division\n",
    "import os\n",
    "import struct\n",
    "import numpy as np\n",
    "import matplotlib.pyplot as plt\n",
    "from scipy.special import expit\n",
    "\n",
    "\n",
    "\n",
    "class MLP(object):\n",
    "    \"\"\" Feedforward neural network / Multi-layer perceptron classifier.\n",
    "\n",
    "    Parameters\n",
    "    ------------\n",
    "    n_output : int\n",
    "        Number of output units, should be equal to the\n",
    "        number of unique class labels.\n",
    "        \n",
    "    n_features : int\n",
    "        Number of features (dimensions) in the target dataset.\n",
    "        Should be equal to the number of columns in the X array.\n",
    "        \n",
    "    n_hidden : int (default: 30)\n",
    "        Number of hidden units.\n",
    "        \n",
    "    l1 : float (default: 0.0)\n",
    "        Lambda value for L1-regularization.\n",
    "        No regularization if l1=0.0 (default)\n",
    "        \n",
    "    l2 : float (default: 0.0)\n",
    "        Lambda value for L2-regularization.\n",
    "        No regularization if l2=0.0 (default)\n",
    "        \n",
    "    epochs : int (default: 500)\n",
    "        Number of passes over the training set.\n",
    "        \n",
    "    eta : float (default: 0.001)\n",
    "        Learning rate.\n",
    "        \n",
    "    alpha : float (default: 0.0)\n",
    "        Momentum constant.\n",
    "        \n",
    "    decrease_const : float (default: 0.0)\n",
    "        Decrease constant. Shrinks the learning rate\n",
    "        after each epoch via eta / (1 + epoch*decrease_const)\n",
    "        \n",
    "    shuffle : bool (default: True)\n",
    "        Shuffles training data every epoch if True to prevent circles.\n",
    "        \n",
    "    minibatches : int (default: 1)\n",
    "        Divides training data into k minibatches for efficiency.\n",
    "        Normal gradient descent learning if k=1 (default).\n",
    "        \n",
    "    random_state : int (default: None)\n",
    "        Set random state for shuffling and initializing the weights.\n",
    "    \n",
    "    dropout : float (default: 1.0, no dropout)\n",
    "        Set the dropout coefficient (keep probability of neurons)\n",
    "\n",
    "    Attributes\n",
    "    -----------\n",
    "    cost_ : list\n",
    "      Sum of squared errors after each epoch.\n",
    "\n",
    "    \"\"\"\n",
    "\n",
    "      \n",
    "    def __init__(self, n_output, n_features, n_hidden=30,\n",
    "                 l1=0.0, l2=0.0, epochs=50, eta=0.001,\n",
    "                 alpha=0.0, decrease_const=0.0, shuffle=True,\n",
    "                 minibatches=1, random_state=1, dropout = 1.0):\n",
    "\n",
    "        self.n_output = n_output\n",
    "        self.r = np.random.RandomState(random_state)\n",
    "        self.n_features = n_features\n",
    "        self.n_hidden = n_hidden\n",
    "        self.w1, self.w2 = self._initialize_weights()\n",
    "        self.l1 = l1\n",
    "        self.l2 = l2\n",
    "        self.epochs = epochs\n",
    "        self.eta = eta\n",
    "        self.alpha = alpha\n",
    "        self.decrease_const = decrease_const\n",
    "        self.shuffle = shuffle\n",
    "        self.minibatches = minibatches\n",
    "        \n",
    "        # The dropout variable is the keep probability for neurons.\n",
    "        # Initialize the class variable \"dropout\" like other variables above. Also, initialize a variable mask to None.\n",
    "        # This will allow sharing dropout information during forward and backward pass of the neural networks. Note \n",
    "        # that the __init__ function has already been modified to include dropout coefficient as an argument. (0.5 points)\n",
    "        \n",
    "        #TODO: Implement\n",
    "        self.dropout = dropout\n",
    "        self.mask = None\n",
    "\n",
    "    def _encode_labels(self, y, k):    \n",
    "        \"\"\"Encode the labels using one-hot representation\n",
    "\n",
    "        Parameters\n",
    "        ------------\n",
    "        y : y represents target values.\n",
    "\n",
    "        Returns\n",
    "        -----------\n",
    "        onehot array\n",
    "\n",
    "        \"\"\"\n",
    "       \n",
    "        onehot = np.zeros((k, y.shape[0]))\n",
    "        for idx, val in enumerate(y):\n",
    "            onehot[val, idx] = 1.0\n",
    "        \n",
    "        return onehot\n",
    "\n",
    "    def _initialize_weights(self):\n",
    "        \"\"\"Initialize weights with small random numbers.\"\"\"\n",
    "        \n",
    "        w1 = self.r.uniform(-1.0, 1.0, size=self.n_hidden*(self.n_features + 1))\n",
    "        w1 = w1.reshape(self.n_hidden, self.n_features + 1)\n",
    "        w2 = self.r.uniform(-1.0, 1.0, size=self.n_output*(self.n_hidden + 1))\n",
    "        w2 = w2.reshape(self.n_output, self.n_hidden + 1)\n",
    "        \n",
    "        return w1, w2\n",
    "\n",
    "    def _sigmoid(self, z):\n",
    "        \"\"\"Compute logistic function (sigmoid)\n",
    "\n",
    "        Uses scipy.special.expit to avoid overflow\n",
    "        error for very small input values z.\n",
    "\n",
    "        \"\"\"\n",
    "        \n",
    "        return expit(z)\n",
    "\n",
    "    def _sigmoid_gradient(self, z):\n",
    "        \"\"\"Compute gradient of the logistic function\"\"\"\n",
    "        \n",
    "        sg = self._sigmoid(z)\n",
    "        return sg * (1.0 - sg)\n",
    "\n",
    "    def _add_bias_unit(self, X, how='column'):\n",
    "        \"\"\"Add bias unit (column or row of 1s) to array at index 0\"\"\"\n",
    "        \n",
    "        if how == 'column':\n",
    "            X_new = np.ones((X.shape[0], X.shape[1] + 1))\n",
    "            X_new[:, 1:] = X\n",
    "        elif how == 'row':\n",
    "            X_new = np.ones((X.shape[0] + 1, X.shape[1]))\n",
    "            X_new[1:, :] = X\n",
    "        else:\n",
    "            raise AttributeError('`how` must be `column` or `row`')\n",
    "        \n",
    "        return X_new\n",
    "\n",
    "    def _feedforward(self, X, w1, w2, if_train=True):\n",
    "        \"\"\"Compute feedforward step\n",
    "\n",
    "        Parameters\n",
    "        -----------\n",
    "        X : array, shape = [n_samples, n_features]\n",
    "            Input layer with original features.\n",
    "        w1 : array, shape = [n_hidden_units, n_features]\n",
    "            Weight matrix for input layer -> hidden layer.\n",
    "        w2 : array, shape = [n_output_units, n_hidden_units]\n",
    "            Weight matrix for hidden layer -> output layer.\n",
    "        if_train: if this is during training\n",
    "\n",
    "        Returns\n",
    "        ----------\n",
    "        a1 : array, shape = [n_samples, n_features+1]\n",
    "            Input values with bias unit.\n",
    "        z2 : array, shape = [n_hidden, n_samples]\n",
    "            Net input of hidden layer.\n",
    "        a2 : array, shape = [n_hidden+1, n_samples]\n",
    "            Activation of hidden layer.\n",
    "        z3 : array, shape = [n_output_units, n_samples]\n",
    "            Net input of output layer.\n",
    "        a3 : array, shape = [n_output_units, n_samples]\n",
    "            Activation of output layer.\n",
    "\n",
    "        \"\"\"\n",
    "        \n",
    "        a1 = self._add_bias_unit(X, how='column')\n",
    "        z2 = w1.dot(a1.T)\n",
    "        a2 = self._sigmoid(z2)\n",
    "        a2 = self._add_bias_unit(a2, how='row')\n",
    "        \n",
    "        # Implement inverted dropout using the class variables dropout and activation variable (a2) for the forward\n",
    "        # pass for the second hidden layer below. To create the mask you will have to use self.r.binomial for \n",
    "        # generating the bernoulli distribution. The mask created here needs to be stored in the appropriate mask\n",
    "        # variable defined in the __init__ function for further use by the backward pass.\n",
    "        # Make sure to handle the inference case (2.5 points)\n",
    "        \n",
    "        # TODO: Implement\n",
    "        self.mask = self.r.binomial(1,self.dropout, size = self.n_hidden+1)\n",
    "        a2 = a2 * self.mask[:,np.newaxis] * (1 / self.dropout)\n",
    "        \n",
    "        \n",
    "        z3 = w2.dot(a2)\n",
    "        a3 = self._sigmoid(z3)\n",
    "        \n",
    "        return a1, z2, a2, z3, a3\n",
    "\n",
    "    def _L2_reg(self, lambda_, w1, w2):\n",
    "        \"\"\"Compute L2-regularization cost\"\"\"\n",
    "        \n",
    "        return (lambda_/2.0) * (np.sum(w1[:, 1:] ** 2) +\n",
    "                                np.sum(w2[:, 1:] ** 2))\n",
    "\n",
    "    def _L1_reg(self, lambda_, w1, w2):\n",
    "        \"\"\"Compute L1-regularization cost\"\"\"\n",
    "        \n",
    "        return (lambda_/2.0) * (np.abs(w1[:, 1:]).sum() +\n",
    "                                np.abs(w2[:, 1:]).sum())\n",
    "\n",
    "    def _get_cost(self, y_enc, output, w1, w2):\n",
    "        \"\"\"Compute cost function.\n",
    "\n",
    "        Parameters\n",
    "        ----------\n",
    "        y_enc : array, shape = (n_labels, n_samples)\n",
    "            one-hot encoded class labels.\n",
    "        output : array, shape = [n_output_units, n_samples]\n",
    "            Activation of the output layer (feedforward)\n",
    "        w1 : array, shape = [n_hidden_units, n_features]\n",
    "            Weight matrix for input layer -> hidden layer.\n",
    "        w2 : array, shape = [n_output_units, n_hidden_units]\n",
    "            Weight matrix for hidden layer -> output layer.\n",
    "\n",
    "        Returns\n",
    "        ---------\n",
    "        cost : float\n",
    "            Regularized cost.\n",
    "\n",
    "        \"\"\"\n",
    "        np.seterr(divide='ignore')\n",
    "        term1 = -y_enc * (np.log(output))\n",
    "        term2 = (1.0 - y_enc) * np.log(1.0 - output)\n",
    "        \n",
    "        term1[np.isneginf(term1)] = 0\n",
    "        term2[np.isneginf(term2)] = 0\n",
    "        \n",
    "        cost = np.sum(term1 - term2)\n",
    "        L1_term = self._L1_reg(self.l1, w1, w2)\n",
    "        L2_term = self._L2_reg(self.l2, w1, w2)\n",
    "        cost = cost + L1_term + L2_term\n",
    "        \n",
    "        return cost\n",
    "\n",
    "    def _get_gradient(self, a1, a2, a3, z2, y_enc, w1, w2):\n",
    "        \"\"\" Compute gradient step using backpropagation.\n",
    "\n",
    "        Parameters\n",
    "        ------------\n",
    "        a1 : array, shape = [n_samples, n_features+1]\n",
    "            Input values with bias unit.\n",
    "        a2 : array, shape = [n_hidden+1, n_samples]\n",
    "            Activation of hidden layer.\n",
    "        a3 : array, shape = [n_output_units, n_samples]\n",
    "            Activation of output layer.\n",
    "        z2 : array, shape = [n_hidden, n_samples]\n",
    "            Net input of hidden layer.\n",
    "        y_enc : array, shape = (n_labels, n_samples)\n",
    "            one-hot encoded class labels.\n",
    "        w1 : array, shape = [n_hidden_units, n_features]\n",
    "            Weight matrix for input layer -> hidden layer.\n",
    "        w2 : array, shape = [n_output_units, n_hidden_units]\n",
    "            Weight matrix for hidden layer -> output layer.\n",
    "\n",
    "        Returns\n",
    "        ---------\n",
    "        grad1 : array, shape = [n_hidden_units, n_features]\n",
    "            Gradient of the weight matrix w1.\n",
    "        grad2 : array, shape = [n_output_units, n_hidden_units]\n",
    "            Gradient of the weight matrix w2.\n",
    "        \"\"\"\n",
    "        \n",
    "        # backpropagation\n",
    "        sigma3 = a3 - y_enc\n",
    "        z2 = self._add_bias_unit(z2, how='row')\n",
    "        sigma2 = w2.T.dot(sigma3) * self._sigmoid_gradient(z2)\n",
    "        \n",
    "        # Implement dropout for the backward pass, use class variables for mask and dropout for this task (2.5 points)\n",
    "        \n",
    "        # TODO: Implement\n",
    "        sigma2 = sigma2 * self.mask[:,np.newaxis] * (1 / self.dropout)\n",
    "        \n",
    "        sigma2 = sigma2[1:, :]\n",
    "        grad1 = sigma2.dot(a1)\n",
    "        grad2 = sigma3.dot(a2.T)\n",
    "\n",
    "        # regularize\n",
    "        grad1[:, 1:] += self.l2 * w1[:, 1:]\n",
    "        grad1[:, 1:] += self.l1 * np.sign(w1[:, 1:])\n",
    "        grad2[:, 1:] += self.l2 * w2[:, 1:]\n",
    "        grad2[:, 1:] += self.l1 * np.sign(w2[:, 1:])\n",
    "\n",
    "        return grad1, grad2\n",
    "\n",
    "    def predict(self, X):\n",
    "        \"\"\"Predict class labels\n",
    "\n",
    "        Parameters\n",
    "        -----------\n",
    "        X : array, shape = [n_samples, n_features]\n",
    "            Input layer with original features.\n",
    "\n",
    "        Returns:\n",
    "        ----------\n",
    "        y_pred : array, shape = [n_samples]\n",
    "            Predicted class labels.\n",
    "\n",
    "        \"\"\"\n",
    "        if len(X.shape) != 2:\n",
    "            raise AttributeError('X must be a [n_samples, n_features] array.\\n'\n",
    "                                 'Use X[:,None] for 1-feature classification,'\n",
    "                                 '\\nor X[[i]] for 1-sample classification')\n",
    "\n",
    "        #TODO: Call the feedforward to get a1, z2, a2, z3, a3 (0.5 point)\n",
    "        self.dropout = 1\n",
    "        a1, z2, a2, z3, a3 = self._feedforward(X, self.w1, self.w2)\n",
    "    \n",
    "        y_pred = np.argmax(z3, axis=0)\n",
    "        \n",
    "        return y_pred\n",
    "\n",
    "    def fit(self, X, y, print_progress=False, validation_freq=0, X_val=None, y_val=None, data_augmentation=False):\n",
    "        \"\"\" Learn weights from training data.\n",
    "\n",
    "        Parameters\n",
    "        -----------\n",
    "        X : array, shape = [n_samples, n_features]\n",
    "            Input layer with original features.\n",
    "        y : array, shape = [n_samples]\n",
    "            Target class labels.\n",
    "        print_progress : bool (default: False)\n",
    "            Prints progress as the number of epochs\n",
    "            to stderr.\n",
    "        validation_freq=0, X_val=None, y_val=None: If provided, perform validation check for early stopping (Task 2)\n",
    "        data_augmentation: bool (default: False)\n",
    "            If true, perform data augmentation (Task 3)\n",
    "\n",
    "        Returns:\n",
    "        ----------\n",
    "        self\n",
    "\n",
    "        \"\"\"\n",
    "        \n",
    "        self.cost_ = []\n",
    "        train_err = []\n",
    "        test_err = []\n",
    "        X_data, y_data = X.copy(), y.copy()\n",
    "        y_enc = self._encode_labels(y, self.n_output)\n",
    "\n",
    "        delta_w1_prev = np.zeros(self.w1.shape)\n",
    "        delta_w2_prev = np.zeros(self.w2.shape)\n",
    "\n",
    "        for i in range(self.epochs):\n",
    "            \n",
    "            # adaptive learning rate\n",
    "            self.eta /= (1 + self.decrease_const*i)\n",
    "\n",
    "            if print_progress:\n",
    "                print('\\nEpoch: %d/%d' % (i+1, self.epochs))\n",
    "            \n",
    "            if X_val is not None and y_val is not None:\n",
    "                if i % validation_freq == 0:\n",
    "                    train_predict = self.predict(X)\n",
    "                    train_error = 0\n",
    "                    for i, val in np.ndenumerate(train_predict):\n",
    "                        if train_predict[i] != y[i]:\n",
    "                            train_error += 1\n",
    "                    train_error /= y.shape[0]\n",
    "                    train_error *= 100\n",
    "                    train_err.append(train_error)\n",
    "\n",
    "                    val_predict = self.predict(X_val)\n",
    "                    val_error = 0\n",
    "                    for i, val in np.ndenumerate(val_predict):\n",
    "                        if val_predict[i] != y_val[i]:\n",
    "                            val_error += 1\n",
    "                    val_error /= y_val.shape[0]\n",
    "                    val_error *= 100\n",
    "                    test_err.append(val_error)\n",
    "    \n",
    "                \n",
    "            if self.shuffle:\n",
    "                idx = np.random.permutation(y_data.shape[0])\n",
    "                X_data, y_enc = X_data[idx], y_enc[:, idx]\n",
    "\n",
    "            mini = np.array_split(range(y_data.shape[0]), self.minibatches)\n",
    "            for idx in mini:\n",
    "                if (data_augmentation==True):\n",
    "                    #print('online data augmentation included!')\n",
    "                    X_mini = online_augmentation(X_data[idx].reshape(idx.shape[0], 28,28))\n",
    "                    X_mini = X_mini.reshape(idx.shape[0], 28*28)\n",
    "                else:\n",
    "                    #print('No augmentation')\n",
    "                    X_mini = X_data[idx]\n",
    "                \n",
    "                #print(\"X_mini.shape\", X_mini.shape)\n",
    "                # feedforward\n",
    "                a1, z2, a2, z3, a3 = self._feedforward(X_mini,\n",
    "                                                       self.w1,\n",
    "                                                       self.w2)\n",
    "                cost = self._get_cost(y_enc=y_enc[:, idx],\n",
    "                                      output=a3,\n",
    "                                      w1=self.w1,\n",
    "                                      w2=self.w2)\n",
    "                self.cost_.append(cost)\n",
    "\n",
    "                # compute gradient via backpropagation\n",
    "                grad1, grad2 = self._get_gradient(a1=a1, a2=a2,\n",
    "                                                  a3=a3, z2=z2,\n",
    "                                                  y_enc=y_enc[:, idx],\n",
    "                                                  w1=self.w1,\n",
    "                                                  w2=self.w2)\n",
    "\n",
    "                delta_w1, delta_w2 = self.eta * grad1, self.eta * grad2\n",
    "                self.w1 -= (delta_w1 + (self.alpha * delta_w1_prev))\n",
    "                self.w2 -= (delta_w2 + (self.alpha * delta_w2_prev))\n",
    "                delta_w1_prev, delta_w2_prev = delta_w1, delta_w2\n",
    "\n",
    "        return self, train_err, test_err\n"
   ]
  },
  {
   "cell_type": "code",
   "execution_count": 0,
   "metadata": {
    "colab": {},
    "colab_type": "code",
    "id": "DDqO9RCYbkwz",
    "outputId": "7a00ec9e-870f-4027-a8e2-f30059c07fa9",
    "scrolled": true
   },
   "outputs": [
    {
     "name": "stdout",
     "output_type": "stream",
     "text": [
      "Dropout: 0.30\n",
      "Training accuracy: 87.86%\n",
      "Test accuracy: 84.62%\n",
      "Dropout: 0.60\n",
      "Training accuracy: 89.89%\n",
      "Test accuracy: 85.53%\n",
      "Dropout: 0.90\n",
      "Training accuracy: 92.42%\n",
      "Test accuracy: 85.67%\n"
     ]
    }
   ],
   "source": [
    "#TODO: for each dropout value, create a class instance and call the fit function and print the training and test accuracy in percentage for each value of dropout.\n",
    "vals = np.arange(0.3, 1.0, 0.3)\n",
    "train_acc_list = []\n",
    "test_acc_list = []\n",
    "for dropout in vals:\n",
    "    # create a MLP object\n",
    "    print('Dropout: %.2f' % dropout)\n",
    "    nn = MLP(n_output=10, \n",
    "             n_features=X_trainval.shape[1], \n",
    "             n_hidden=50, \n",
    "             l2=0.0, \n",
    "             l1=0.0, \n",
    "             epochs=500,\n",
    "             eta=0.001,\n",
    "             alpha=0.001,\n",
    "             decrease_const=0.00001,\n",
    "             minibatches=50, \n",
    "             shuffle=False,\n",
    "             random_state=1,\n",
    "             dropout = dropout)\n",
    "    \n",
    "    # Fit the data with NN\n",
    "    nn.fit(X_trainval, Y_trainval, print_progress=False)\n",
    "    \n",
    "    # Print the training accuracy and test accuracy in percentage for each value of dropout. This part is same as \n",
    "    # a question asked in Exercise 2, so you may use the code from there. (0 points) \n",
    "    pred_labels_training = nn.predict(X_trainval)\n",
    "    train_acc = 0\n",
    "    #print (pred_labels_training)\n",
    "    #print (y_train)\n",
    "    for index,val in np.ndenumerate(pred_labels_training):\n",
    "        if pred_labels_training[index] == Y_trainval[index]:\n",
    "            train_acc += 1\n",
    "    train_acc /= Y_trainval.shape[0]\n",
    "    train_acc_list.append(train_acc*100)\n",
    "    print('Training accuracy: %.2f%%' % (train_acc * 100))\n",
    "    \n",
    "    pred_labels_test = nn.predict(X_test)\n",
    "    test_acc = 0\n",
    "    #print (pred_labels_test)\n",
    "    #print (y_test)\n",
    "    for index,val in np.ndenumerate(pred_labels_test):\n",
    "        if pred_labels_test[index] == Y_test[index]:\n",
    "            test_acc += 1\n",
    "    test_acc /= Y_test.shape[0]\n",
    "    test_acc_list.append(test_acc*100)\n",
    "    print('Test accuracy: %.2f%%' % (test_acc * 100))\n",
    "    \n",
    "\n",
    "#Initialize the class for each dropout value as follows:\n",
    "# \"\"\"\n",
    "# nn = MLP(n_output=10, \n",
    "#              n_features=X_trainval.shape[1], \n",
    "#              n_hidden=50, \n",
    "#              l2=0.0, \n",
    "#              l1=0.0, \n",
    "#              epochs=500, \n",
    "#              eta=0.001,\n",
    "#              alpha=0.001,\n",
    "#              decrease_const=0.00001,\n",
    "#              minibatches=50, \n",
    "#              shuffle=False,\n",
    "#              random_state=1,\n",
    "#              dropout = dropout)\n",
    "# \"\"\" "
   ]
  },
  {
   "cell_type": "code",
   "execution_count": 0,
   "metadata": {
    "colab": {},
    "colab_type": "code",
    "id": "icA-pnPmbkw3",
    "outputId": "ee753df7-2b71-4d59-a168-6dad1516167d",
    "scrolled": false
   },
   "outputs": [
    {
     "data": {
      "image/png": "[encoded data removed]",
      "text/plain": [
       "<Figure size 432x288 with 1 Axes>"
      ]
     },
     "metadata": {
      "needs_background": "light",
      "tags": []
     },
     "output_type": "display_data"
    },
    {
     "data": {
      "image/png": "[encoded data removed]",
      "text/plain": [
       "<Figure size 432x288 with 1 Axes>"
      ]
     },
     "metadata": {
      "needs_background": "light",
      "tags": []
     },
     "output_type": "display_data"
    }
   ],
   "source": [
    "import matplotlib.pyplot as plt\n",
    "\n",
    "# Plot the training error and validation error for p values\n",
    "# TODO: Implement\n",
    "p1 = plt.plot(vals,np.subtract([100], train_acc_list), marker='D', label='train')\n",
    "p2 = plt.plot(vals,np.subtract([100], test_acc_list), marker='D', label='test')\n",
    "plt.xlabel('Dropout(p-values)')\n",
    "plt.ylabel('Error rate (%)')\n",
    "plt.legend()\n",
    "plt.title('Error vs Dropout')\n",
    "plt.tight_layout()\n",
    "plt.show()\n",
    "\n",
    "p1 = plt.bar(vals, np.subtract([100], train_acc_list), width=0.07, label='train')\n",
    "p2 = plt.bar(vals*0.96, np.subtract([100], test_acc_list), width=0.07, label='test') \n",
    "# Note: X-axis in p2 is multiplied by 0.96 just to avoid the overlap\n",
    "plt.xlabel('Dropout(p-values)')\n",
    "plt.ylabel('Error rate (%)')\n",
    "plt.legend()\n",
    "plt.title('Error vs Dropout')\n",
    "plt.tight_layout()\n",
    "plt.show()"
   ]
  },
  {
   "cell_type": "markdown",
   "metadata": {
    "colab_type": "text",
    "id": "cZUZaVHHbkw7"
   },
   "source": [
    "## 2. Early Stopping$~$ (9 points)"
   ]
  },
  {
   "cell_type": "markdown",
   "metadata": {
    "colab_type": "text",
    "id": "z5QIGvU-bkw9"
   },
   "source": [
    "For reference see Wikipedia page: https://en.wikipedia.org/wiki/Early_stopping, and also refer to section 7.8 in Deep Learning book.\n",
    "\n",
    "*Early stopping* is a form of regualrization that avoids overfitting by using the validation set error as an indication on when to stop the training before the validation set error starts increasing again. \n",
    "\n",
    "Goal: To study how increasing neurons of a neural network (model complexity) affects the Early Stopping threshold."
   ]
  },
  {
   "cell_type": "code",
   "execution_count": 0,
   "metadata": {
    "colab": {},
    "colab_type": "code",
    "collapsed": true,
    "id": "stKZ3HqvbkxB"
   },
   "outputs": [],
   "source": [
    "#TODO: create two classes instances and fit two times with different neurons number\n",
    "\n",
    "#TODO: Plots for training and test errors for the 2 models\n",
    "\n",
    "neurons = [50, 200]\n",
    "train_err_lst = []\n",
    "test_err_lst = []\n",
    "    \n",
    "for n, hidden in enumerate(neurons):\n",
    "    print(\"Number of hidden units:\",hidden)\n",
    "    nn = MLP(n_output=10, \n",
    "             n_features=X_trainval.shape[1], \n",
    "             n_hidden=hidden, \n",
    "             l2=0.0, \n",
    "             l1=0.0, \n",
    "             epochs=800, \n",
    "             eta=0.001,\n",
    "             alpha=0.001,\n",
    "             decrease_const=0.00001,\n",
    "             minibatches=50, \n",
    "             shuffle=False,\n",
    "             random_state=1)\n",
    "    \n",
    "    _, train_err, test_err = nn.fit(X_trainval, Y_trainval, print_progress=False,\n",
    "             validation_freq=100,\n",
    "             X_val=X_test, y_val=Y_test)\n",
    "    \n",
    "     #print(\"Val errs:\",test_err)\n",
    "    #print(\"train errs:\", train_err)\n",
    "    train_err_lst.append(train_err)\n",
    "    test_err_lst.append(test_err)\n",
    "    iter = [ (i+1)*100 for i in range(800 // 100)]\n",
    "    plt.subplot(1,len(neurons),n+1)\n",
    "    plt.plot(iter, train_err, label='Training Error')\n",
    "    plt.plot(iter, test_err, label='Validation Error')\n",
    "    #plt.yscale('log')\n",
    "    #plt.ylim([0, 100])\n",
    "    plt.ylabel('Error')\n",
    "    plt.xlabel('Epochs')\n",
    "    plt.legend(loc='upper right')\n",
    "    plt.title(\"Neurons: {0} (error)\".format(hidden))\n",
    "    plt.tight_layout()\n",
    "    plt.show()\n",
    "\n",
    "    "
   ]
  },
  {
   "cell_type": "code",
   "execution_count": 0,
   "metadata": {
    "colab": {
     "base_uri": "https://localhost:8080/",
     "height": 837
    },
    "colab_type": "code",
    "id": "aVaM_1cw6Cnq",
    "outputId": "f1246d59-3cf1-48b1-f522-92b15ccc2ade",
    "scrolled": false
   },
   "outputs": [
    {
     "name": "stdout",
     "output_type": "stream",
     "text": [
      "Number of hidden units: 50\n",
      "Val errs: [92.80000000000001, 14.81, 15.18, 15.07, 15.129999999999999, 15.260000000000002, 15.190000000000001, 15.229999999999999]\n",
      "train errs: [92.995, 9.633333333333335, 7.548333333333333, 6.306666666666666, 5.533333333333333, 5.088333333333334, 4.843333333333334, 4.706666666666667]\n"
     ]
    },
    {
     "data": {
      "image/png": "[encoded data removed]",
      "text/plain": [
       "<Figure size 576x396 with 1 Axes>"
      ]
     },
     "metadata": {
      "tags": []
     },
     "output_type": "display_data"
    },
    {
     "name": "stdout",
     "output_type": "stream",
     "text": [
      "Number of hidden units: 200\n",
      "Val errs: [84.38, 14.56, 14.95, 14.97, 14.96, 14.879999999999999, 14.790000000000001, 14.729999999999999]\n",
      "train errs: [84.355, 4.8, 1.3416666666666668, 0.4066666666666666, 0.18666666666666668, 0.11499999999999999, 0.08666666666666667, 0.07666666666666667]\n"
     ]
    },
    {
     "data": {
      "image/png": "[encoded data removed]",
      "text/plain": [
       "<Figure size 576x396 with 1 Axes>"
      ]
     },
     "metadata": {
      "tags": []
     },
     "output_type": "display_data"
    }
   ],
   "source": [
    "#TODO: create two classes instances and fit two times with different neurons number\n",
    "\n",
    "#TODO: Plots for training and test errors for the 2 models\n",
    "\n",
    "neurons = [50, 200]\n",
    "train_err_lst = []\n",
    "test_err_lst = []\n",
    "#plt.figure(figsize=(10,3))\n",
    "for n, hidden in enumerate(neurons):\n",
    "    #create a MLP object\n",
    "    print(\"Number of hidden units:\",hidden)\n",
    "    nn = MLP(n_output=10, \n",
    "             n_features=X_trainval.shape[1], \n",
    "             n_hidden=hidden, \n",
    "             l2=0.0, \n",
    "             l1=0.0, \n",
    "             epochs=800, \n",
    "             eta=0.001,\n",
    "             alpha=0.001,\n",
    "             decrease_const=0.00001,\n",
    "             minibatches=50, \n",
    "             shuffle=False,\n",
    "             random_state=1)\n",
    "    \n",
    "    # Fit the data with NN\n",
    "    _, train_err, test_err = nn.fit(X_trainval, Y_trainval, print_progress=False,\n",
    "             validation_freq=100,\n",
    "             X_val=X_test, y_val=Y_test)\n",
    "    \n",
    "    #print(\"Val errs:\",test_err)\n",
    "    #print(\"train errs:\", train_err)\n",
    "    train_err_lst.append(train_err)\n",
    "    test_err_lst.append(test_err)\n",
    "    iter = [ (i+1)*100 for i in range(800 // 100)]\n",
    "    plt.plot(iter, train_err, label='Training Error')\n",
    "    plt.plot(iter, test_err, label='Validation Error')\n",
    "    plt.ylabel('Error')\n",
    "    plt.xlabel('Epochs')\n",
    "    plt.legend(loc='upper right')\n",
    "    plt.title(\"Neurons: {0} (error)\".format(hidden))\n",
    "    plt.show()"
   ]
  },
  {
   "cell_type": "markdown",
   "metadata": {
    "colab_type": "text",
    "id": "rkCib_PFbkxT"
   },
   "source": [
    "## 3. Data Augmentation$~$ (12 points)"
   ]
  },
  {
   "cell_type": "markdown",
   "metadata": {
    "colab_type": "text",
    "id": "LpVP5fDvbkxU"
   },
   "source": [
    "While the performance of neural networks can significantly increase with increasing training data size, collecting a large dataset is hard and needs a lot of work in annotation. Therefore, data augmentation is a widley used technique in machine learning to artificially increase your training set size. In case of images, data augmentation methods can be scaling, rotations, cropping, or mirroring. In this exercise, we will get familiar with some of these techniques and apply them on the MNIST fashion dataset. \n",
    "\n",
    "For additional reading, you can refer to the following paper (also known as AlexNet) which is one of the papers that revolutionized neural networks applications in image classification and has used data augmentation to increase training data size:\n",
    "\n",
    "Krizhevsky, Alex, Ilya Sutskever, and Geoffrey E. Hinton. \"Imagenet classification with deep convolutional neural networks.\" Advances in neural information processing systems. 2012 (http://papers.nips.cc/paper/4824-imagenet-classification-with-deep-convolutional-neural-networks.pdf).\n",
    "\n",
    "**Additional note:** These types of augmentation methods usually work best with a type of neural networks called *Convolutional Neural Networks (CNNs)* becuase these networks can learn features that are invariant under transformations (Wikipedia: https://en.wikipedia.org/wiki/Convolutional_neural_network). However, we will use it here with a simple fully connected network to learn the concept. \n"
   ]
  },
  {
   "cell_type": "code",
   "execution_count": 0,
   "metadata": {
    "colab": {},
    "colab_type": "code",
    "collapsed": true,
    "id": "AY1LPSa6bkxW"
   },
   "outputs": [],
   "source": [
    "# select imput image for each transformations\n",
    "fashion_mnist = tf.keras.datasets.fashion_mnist\n",
    "(X_trainval, Y_trainval), (X_test, Y_test) = fashion_mnist.load_data()\n",
    "input_img = X_trainval[np.random.randint(X_trainval.shape[0], size=1)].reshape(28, 28)"
   ]
  },
  {
   "cell_type": "code",
   "execution_count": 0,
   "metadata": {
    "colab": {},
    "colab_type": "code",
    "id": "SVwdvVPybkxY",
    "outputId": "64a0250c-aa93-4306-bcf9-e089e5f09a13"
   },
   "outputs": [
    {
     "data": {
      "image/png": "[encoded data removed]",
      "text/plain": [
       "<Figure size 432x288 with 2 Axes>"
      ]
     },
     "metadata": {
      "needs_background": "light",
      "tags": []
     },
     "output_type": "display_data"
    }
   ],
   "source": [
    "#TODO: Implement vertical flipping. Use Numpy\n",
    "def flip_img(one_input_image):\n",
    "    flipped_image = np.flip(m=one_input_image, axis=0)\n",
    "    #flipped_image = input_img[::-1, :]\n",
    "    #flipped_image = np.flipud(input_img)\n",
    "    return flipped_image\n",
    "\n",
    "flipped_img = flip_img(input_img)\n",
    "# Plot\n",
    "import matplotlib.pyplot as plt\n",
    "plt.axis('off')\n",
    "plt.subplot(1,2,1, title='original image')\n",
    "plt.imshow(input_img)\n",
    "plt.subplot(1,2,2, title='flipped image')\n",
    "plt.imshow(flipped_img)\n",
    "plt.show()"
   ]
  },
  {
   "cell_type": "code",
   "execution_count": 0,
   "metadata": {
    "colab": {},
    "colab_type": "code",
    "id": "ZxGtHdwObkxb",
    "outputId": "ff1abd15-cbd5-4f73-f1cd-48eb736ecb8d"
   },
   "outputs": [
    {
     "data": {
      "image/png": "[encoded data removed]",
      "text/plain": [
       "<Figure size 432x288 with 2 Axes>"
      ]
     },
     "metadata": {
      "needs_background": "light",
      "tags": []
     },
     "output_type": "display_data"
    }
   ],
   "source": [
    "#TODO: Implement image rotation by 90 degrees clockwise using Numpy\n",
    "def rotate_img(one_input_image):\n",
    "    rotated_img = np.rot90(m=one_input_image, k=1, axes=(1,0))\n",
    "    return rotated_img\n",
    "\n",
    "rotated_img = rotate_img(input_img)\n",
    "# plot\n",
    "import matplotlib.pyplot as plt\n",
    "plt.subplot(1, 2, 1, title='original image')\n",
    "plt.imshow(input_img)\n",
    "plt.axis('off')\n",
    "plt.subplot(1, 2, 2, title='rotated image')\n",
    "plt.imshow(rotated_img)\n",
    "plt.axis('off')\n",
    "plt.show()"
   ]
  },
  {
   "cell_type": "code",
   "execution_count": 0,
   "metadata": {
    "colab": {},
    "colab_type": "code",
    "id": "vByaGT4Sbkxf",
    "outputId": "ae168a0d-f269-4cd8-d692-c014c19168ff"
   },
   "outputs": [
    {
     "name": "stdout",
     "output_type": "stream",
     "text": [
      "(28, 28)\n"
     ]
    },
    {
     "data": {
      "image/png": "[encoded data removed]",
      "text/plain": [
       "<Figure size 432x288 with 2 Axes>"
      ]
     },
     "metadata": {
      "needs_background": "light",
      "tags": []
     },
     "output_type": "display_data"
    }
   ],
   "source": [
    "#TODO: Implement image scaling\n",
    "#For this, you can use an image processing library such as: https://scikit-image.org/ (install if needed)\n",
    "\n",
    "def scale_img(one_input_image, scale_ratio):\n",
    "    import skimage\n",
    "    scaled_img = skimage.transform.rescale(image=one_input_image, scale=scale_ratio)\n",
    "    crop_width = (scaled_img.shape[0]-28)//2\n",
    "    crop_img = skimage.util.crop(ar=scaled_img, crop_width=crop_width)\n",
    "    #print(crop_img.shape)\n",
    "    return crop_img\n",
    "\n",
    "scaled_image = scale_img(input_img, scale_ratio=1.0)\n",
    "print(scaled_image.shape)\n",
    "# plot\n",
    "import matplotlib.pyplot as plt\n",
    "plt.subplot(1, 2, 1, title='original image')\n",
    "plt.imshow(input_img)\n",
    "plt.axis('off')\n",
    "plt.subplot(1, 2, 2, title='scaled image')\n",
    "plt.imshow(scaled_image)\n",
    "plt.axis('off')\n",
    "plt.show()"
   ]
  },
  {
   "cell_type": "code",
   "execution_count": 0,
   "metadata": {
    "colab": {},
    "colab_type": "code",
    "id": "4c5XEvfZbkxj",
    "outputId": "6ca76d16-eea6-4cf0-ac15-2764a07e93a6"
   },
   "outputs": [
    {
     "data": {
      "image/png": "[encoded data removed]",
      "text/plain": [
       "<Figure size 432x288 with 2 Axes>"
      ]
     },
     "metadata": {
      "needs_background": "light",
      "tags": []
     },
     "output_type": "display_data"
    },
    {
     "data": {
      "image/png": "[encoded data removed]",
      "text/plain": [
       "<Figure size 432x288 with 2 Axes>"
      ]
     },
     "metadata": {
      "needs_background": "light",
      "tags": []
     },
     "output_type": "display_data"
    }
   ],
   "source": [
    "#TODO: Implement image translation. Use Numpy\n",
    "def translate_img(one_input_image, right_or_left_flag, shift_pixels):\n",
    "    tr_img = np.zeros((one_input_image.shape[0],one_input_image.shape[1]))\n",
    "    for row_idx in range(one_input_image.shape[0]):\n",
    "        for col_idx in range(one_input_image.shape[1]):\n",
    "            if(right_or_left_flag=='right'):\n",
    "                tot_shift = col_idx+shift_pixels\n",
    "            elif(right_or_left_flag=='left'):\n",
    "                tot_shift = col_idx-shift_pixels\n",
    "            else:\n",
    "                print(\"specify 'left' or 'right' shift\")\n",
    "            if(tot_shift<0 or tot_shift>=one_input_image.shape[1]):\n",
    "                pass\n",
    "            else:\n",
    "                tr_img[row_idx, tot_shift] =  input_img[row_idx, col_idx]\n",
    "    return tr_img\n",
    "\n",
    "left_tr_img = translate_img(input_img, 'left', 5)\n",
    "plt.subplot(1, 2, 1, title='original image')\n",
    "plt.imshow(input_img)\n",
    "plt.axis('off')\n",
    "plt.subplot(1, 2, 2, title='left translated image')\n",
    "plt.imshow(left_tr_img)\n",
    "plt.axis('off')\n",
    "plt.show()\n",
    "right_tr_img = translate_img(input_img, 'right', 5)\n",
    "plt.subplot(1, 2, 1, title='original image')\n",
    "plt.imshow(input_img)\n",
    "plt.axis('off')\n",
    "plt.subplot(1, 2, 2, title='right translated image')\n",
    "plt.imshow(right_tr_img)\n",
    "plt.axis('off')\n",
    "plt.show()"
   ]
  },
  {
   "cell_type": "code",
   "execution_count": 0,
   "metadata": {
    "colab": {},
    "colab_type": "code",
    "id": "C1aHZiVubkxo",
    "outputId": "3507efa9-c237-4134-839e-de08987ff9a9"
   },
   "outputs": [
    {
     "data": {
      "image/png": "[encoded data removed]",
      "text/plain": [
       "<Figure size 432x288 with 3 Axes>"
      ]
     },
     "metadata": {
      "needs_background": "light",
      "tags": []
     },
     "output_type": "display_data"
    },
    {
     "data": {
      "image/png": "[encoded data removed]",
      "text/plain": [
       "<Figure size 432x288 with 3 Axes>"
      ]
     },
     "metadata": {
      "needs_background": "light",
      "tags": []
     },
     "output_type": "display_data"
    }
   ],
   "source": [
    "#TODO: Implement adding Gaussian noise. Use Numpy\n",
    "def distort_img(one_input_image, sd=0.2):\n",
    "    noise = np.random.normal(0, sd, one_input_image.shape)\n",
    "    distorted_img = one_input_image + noise\n",
    "    return distorted_img, noise\n",
    "\n",
    "def distort_img_(one_input_image, sd=0.2):\n",
    "    noise = np.random.normal(0, sd, one_input_image.shape)\n",
    "    distorted_img = one_input_image + noise\n",
    "    return distorted_img\n",
    "\n",
    "dist_image, noise = distort_img(input_img)\n",
    "plt.subplot(1, 3, 1, title='original image')\n",
    "plt.imshow(input_img)\n",
    "plt.axis('off')\n",
    "plt.subplot(1, 3, 2, title='noise_sd_0.2')\n",
    "plt.imshow(noise)\n",
    "plt.axis('off')\n",
    "plt.subplot(1, 3, 3, title='distorted image')\n",
    "plt.imshow(dist_image)\n",
    "plt.axis('off')\n",
    "plt.show()\n",
    "\n",
    "dist_image, noise = distort_img(input_img, 10.0)\n",
    "plt.subplot(1, 3, 1, title='original image')\n",
    "plt.imshow(input_img)\n",
    "plt.axis('off')\n",
    "plt.subplot(1, 3, 2, title='noise_sd_10')\n",
    "plt.imshow(noise)\n",
    "plt.axis('off')\n",
    "plt.subplot(1, 3, 3, title='distorted image')\n",
    "plt.imshow(dist_image)\n",
    "plt.axis('off')\n",
    "plt.show()"
   ]
  },
  {
   "cell_type": "code",
   "execution_count": 0,
   "metadata": {
    "colab": {},
    "colab_type": "code",
    "id": "83DRl6RVbkxs",
    "outputId": "bfdd3c88-a6a1-43b7-92f3-8d62b871be94",
    "scrolled": false
   },
   "outputs": [
    {
     "data": {
      "text/plain": [
       "(50, 28, 28)"
      ]
     },
     "execution_count": 17,
     "metadata": {
      "tags": []
     },
     "output_type": "execute_result"
    }
   ],
   "source": [
    "#TODO: Implement online_augmentation\n",
    "def online_augmentation(batch_images):\n",
    "    #print('Online augmentation included')\n",
    "    batch_images = batch_images.reshape(batch_images.shape[0], 28, 28)\n",
    "    augmented_batch = []\n",
    "    for idx, img in enumerate(batch_images):\n",
    "        if(np.random.uniform(0.0, 1.0, 1)>0.5):\n",
    "            #print('augmenting image %d' %idx)\n",
    "            import random\n",
    "            aug_selector = random.choice(\n",
    "                ['flip', 'scale', 'rotate', 'translate', 'GaussianDistortion'])\n",
    "            if aug_selector=='flip':\n",
    "                #print('flipping')\n",
    "                augmented_batch.append(flip_img(img))\n",
    "            elif aug_selector=='scale':\n",
    "                #print('scaling')\n",
    "                augmented_batch.append(scale_img(img, np.random.randint(1,3,1)))\n",
    "            elif aug_selector=='rotate':\n",
    "                #print('rotating')\n",
    "                augmented_batch.append(rotate_img(img)) \n",
    "            elif aug_selector=='translate':\n",
    "                #print('tranlsating')\n",
    "                shift_dir = random.choice(['right', 'left'])\n",
    "                augmented_batch.append(translate_img(img, shift_dir, np.random.randint(5,10,1)))\n",
    "            elif aug_selector=='GaussianDistortion':\n",
    "                #print('distorting')\n",
    "                augmented_batch.append(distort_img_(img))\n",
    "        else:\n",
    "            #print('image %d is not augmented' %idx)\n",
    "            augmented_batch.append(img)\n",
    "    return np.asarray(augmented_batch)\n",
    "\n",
    "batch_images=X_trainval[0:50]\n",
    "aug_batch = online_augmentation(batch_images)\n",
    "# plt.imshow(aug_batch[np.random.randint(1,50,1)[0]])\n",
    "# np.random.randint(1,50,1)[0]\n",
    "# for i in range(len(aug_batch)):\n",
    "#     print(aug_batch[i].shape)\n",
    "aug_batch.shape"
   ]
  },
  {
   "cell_type": "code",
   "execution_count": 0,
   "metadata": {
    "colab": {},
    "colab_type": "code",
    "id": "pFF1eUh1bkxy",
    "outputId": "b2a2748a-2f4b-4a1b-9263-f81495a16d90",
    "scrolled": true
   },
   "outputs": [
    {
     "name": "stdout",
     "output_type": "stream",
     "text": [
      "(60000, 784)\n",
      "Number of hidden units: 50\n",
      "Training accuracy: 85.89%\n",
      "Test accuracy: 82.54%\n"
     ]
    }
   ],
   "source": [
    "#TODO: create an instrance of the class\n",
    "#TODO: run the fit function\n",
    "#TODO: Plot the train and test performance over epochs\n",
    "print(X_trainval.shape)\n",
    "hidden = 50  \n",
    "print(\"Number of hidden units:\",hidden)\n",
    "nn = MLP(n_output=10, \n",
    "         n_features=X_trainval.shape[1], \n",
    "         n_hidden=hidden, \n",
    "         l2=0.0, \n",
    "         l1=0.0, \n",
    "         epochs=200, \n",
    "         eta=0.001,\n",
    "         alpha=0.001,\n",
    "         decrease_const=0.00001,\n",
    "         minibatches=50, \n",
    "         shuffle=False,\n",
    "         random_state=1)\n",
    "\n",
    "# Fit the data with NN\n",
    "_, train_err, test_err = nn.fit(X_trainval, Y_trainval, print_progress=False,\n",
    "         validation_freq=1, data_augmentation=True, X_val=X_test, y_val=Y_test)\n",
    "\n",
    "pred_labels_training = nn.predict(X_trainval)\n",
    "train_acc = 0\n",
    "#print (pred_labels_training)\n",
    "#print (y_train)\n",
    "for index,val in np.ndenumerate(pred_labels_training):\n",
    "    if pred_labels_training[index] == Y_trainval[index]:\n",
    "        train_acc += 1\n",
    "train_acc /= Y_trainval.shape[0]\n",
    "#train_acc_list.append(train_acc*100)\n",
    "print('Training accuracy: %.2f%%' % (train_acc * 100))\n",
    "\n",
    "pred_labels_test = nn.predict(X_test)\n",
    "test_acc = 0\n",
    "#print (pred_labels_test)\n",
    "#print (y_test)\n",
    "for index,val in np.ndenumerate(pred_labels_test):\n",
    "    if pred_labels_test[index] == Y_test[index]:\n",
    "        test_acc += 1\n",
    "test_acc /= Y_test.shape[0]\n",
    "#test_acc_list.append(test_acc*100)\n",
    "print('Test accuracy: %.2f%%' % (test_acc * 100))\n",
    "\n"
   ]
  },
  {
   "cell_type": "code",
   "execution_count": 0,
   "metadata": {
    "colab": {
     "base_uri": "https://localhost:8080/",
     "height": 416
    },
    "colab_type": "code",
    "id": "w8O9d_YERGlg",
    "outputId": "5a728a4c-7cf6-4b35-e5dc-f25fe888551d"
   },
   "outputs": [
    {
     "data": {
      "image/png": "[encoded data removed]",
      "text/plain": [
       "<Figure size 576x396 with 1 Axes>"
      ]
     },
     "metadata": {
      "tags": []
     },
     "output_type": "display_data"
    }
   ],
   "source": [
    "iter = [ (i+1)*1 for i in range(200 // 1)]\n",
    "plt.plot(iter, train_err, label='Training Error')\n",
    "plt.plot(iter, test_err, label='Test Error')\n",
    "#plt.yscale('log')\n",
    "#plt.ylim([0, 100])\n",
    "plt.ylabel('Error(%)')\n",
    "plt.xlabel('Epochs')\n",
    "plt.legend(loc='upper right')\n",
    "plt.tight_layout()\n",
    "plt.title(\"Neurons: {0} (error vs epoch)\".format(hidden))\n",
    "plt.show()"
   ]
  },
  {
   "cell_type": "markdown",
   "metadata": {
    "colab_type": "text",
    "id": "saPCMZlJDmsg"
   },
   "source": [
    "# For 400 epochs"
   ]
  },
  {
   "cell_type": "markdown",
   "metadata": {
    "colab_type": "text",
    "id": "Ju10_6mUDaIJ"
   },
   "source": []
  },
  {
   "cell_type": "code",
   "execution_count": 0,
   "metadata": {
    "colab": {
     "base_uri": "https://localhost:8080/",
     "height": 85
    },
    "colab_type": "code",
    "id": "ysx0u409RGlW",
    "outputId": "df3acfc4-93a7-4251-e32d-11261dd3a5fa",
    "scrolled": true
   },
   "outputs": [
    {
     "name": "stdout",
     "output_type": "stream",
     "text": [
      "(60000, 784)\n",
      "Number of hidden units: 50\n",
      "Training accuracy: 87.37%\n",
      "Test accuracy: 83.45%\n"
     ]
    }
   ],
   "source": [
    "#TODO: create an instrance of the class\n",
    "#TODO: run the fit function\n",
    "#TODO: Plot the train and test performance over epochs\n",
    "print(X_trainval.shape)\n",
    "hidden = 50  \n",
    "print(\"Number of hidden units:\",hidden)\n",
    "nn = MLP(n_output=10, \n",
    "         n_features=X_trainval.shape[1], \n",
    "         n_hidden=hidden, \n",
    "         l2=0.0, \n",
    "         l1=0.0, \n",
    "         epochs=400, \n",
    "         eta=0.001,\n",
    "         alpha=0.001,\n",
    "         decrease_const=0.00001,\n",
    "         minibatches=50, \n",
    "         shuffle=False,\n",
    "         random_state=1)\n",
    "\n",
    "# Fit the data with NN\n",
    "_, train_err, test_err = nn.fit(X_trainval, Y_trainval, print_progress=False,\n",
    "         validation_freq=1, data_augmentation=True, X_val=X_test, y_val=Y_test)\n",
    "\n",
    "pred_labels_training = nn.predict(X_trainval)\n",
    "train_acc = 0\n",
    "#print (pred_labels_training)\n",
    "#print (y_train)\n",
    "for index,val in np.ndenumerate(pred_labels_training):\n",
    "    if pred_labels_training[index] == Y_trainval[index]:\n",
    "        train_acc += 1\n",
    "train_acc /= Y_trainval.shape[0]\n",
    "#train_acc_list.append(train_acc*100)\n",
    "print('Training accuracy: %.2f%%' % (train_acc * 100))\n",
    "\n",
    "pred_labels_test = nn.predict(X_test)\n",
    "test_acc = 0\n",
    "#print (pred_labels_test)\n",
    "#print (y_test)\n",
    "for index,val in np.ndenumerate(pred_labels_test):\n",
    "    if pred_labels_test[index] == Y_test[index]:\n",
    "        test_acc += 1\n",
    "test_acc /= Y_test.shape[0]\n",
    "#test_acc_list.append(test_acc*100)\n",
    "print('Test accuracy: %.2f%%' % (test_acc * 100))\n",
    "\n"
   ]
  },
  {
   "cell_type": "code",
   "execution_count": 0,
   "metadata": {
    "colab": {
     "base_uri": "https://localhost:8080/",
     "height": 416
    },
    "colab_type": "code",
    "id": "zd2BM1ebDWB1",
    "outputId": "caceb2cb-16b8-45b9-f5b2-04bbe371de67"
   },
   "outputs": [
    {
     "data": {
      "image/png": "[encoded data removed]",
      "text/plain": [
       "<Figure size 576x396 with 1 Axes>"
      ]
     },
     "metadata": {
      "tags": []
     },
     "output_type": "display_data"
    }
   ],
   "source": [
    "iter = [ (i+1)*1 for i in range(400 // 1)]\n",
    "plt.plot(iter, train_err, label='Training Error')\n",
    "plt.plot(iter, test_err, label='Test Error')\n",
    "#plt.yscale('log')\n",
    "#plt.ylim([0, 100])\n",
    "plt.ylabel('Error(%)')\n",
    "plt.xlabel('Epochs')\n",
    "plt.legend(loc='upper right')\n",
    "plt.tight_layout()\n",
    "plt.title(\"Neurons: {0} (error vs epoch)\".format(hidden))\n",
    "plt.show()"
   ]
  },
  {
   "cell_type": "markdown",
   "metadata": {
    "colab_type": "text",
    "id": "CalVGj3EDgqf"
   },
   "source": [
    "# For 1500 epochs"
   ]
  },
  {
   "cell_type": "code",
   "execution_count": 0,
   "metadata": {
    "colab": {},
    "colab_type": "code",
    "id": "PoUbBj0wC0L3",
    "outputId": "18f305f0-28e4-4ead-d275-02b4f4cfc81a",
    "scrolled": true
   },
   "outputs": [
    {
     "name": "stdout",
     "output_type": "stream",
     "text": [
      "(60000, 784)\n",
      "Number of hidden units: 50\n",
      "Training accuracy: 89.36%\n",
      "Test accuracy: 84.51%\n"
     ]
    }
   ],
   "source": [
    "#TODO: create an instrance of the class\n",
    "#TODO: run the fit function\n",
    "#TODO: Plot the train and test performance over epochs\n",
    "print(X_trainval.shape)\n",
    "hidden = 50  \n",
    "print(\"Number of hidden units:\",hidden)\n",
    "nn = MLP(n_output=10, \n",
    "         n_features=X_trainval.shape[1], \n",
    "         n_hidden=hidden, \n",
    "         l2=0.0, \n",
    "         l1=0.0, \n",
    "         epochs=1500, \n",
    "         eta=0.001,\n",
    "         alpha=0.001,\n",
    "         decrease_const=0.00001,\n",
    "         minibatches=50, \n",
    "         shuffle=False,\n",
    "         random_state=1)\n",
    "\n",
    "# Fit the data with NN\n",
    "_, train_err, test_err = nn.fit(X_trainval, Y_trainval, print_progress=False,\n",
    "         validation_freq=100, data_augmentation=True, X_val=X_test, y_val=Y_test)\n",
    "\n",
    "pred_labels_training = nn.predict(X_trainval)\n",
    "train_acc = 0\n",
    "#print (pred_labels_training)\n",
    "#print (y_train)\n",
    "for index,val in np.ndenumerate(pred_labels_training):\n",
    "    if pred_labels_training[index] == Y_trainval[index]:\n",
    "        train_acc += 1\n",
    "train_acc /= Y_trainval.shape[0]\n",
    "#train_acc_list.append(train_acc*100)\n",
    "print('Training accuracy: %.2f%%' % (train_acc * 100))\n",
    "\n",
    "pred_labels_test = nn.predict(X_test)\n",
    "test_acc = 0\n",
    "#print (pred_labels_test)\n",
    "#print (y_test)\n",
    "for index,val in np.ndenumerate(pred_labels_test):\n",
    "    if pred_labels_test[index] == Y_test[index]:\n",
    "        test_acc += 1\n",
    "test_acc /= Y_test.shape[0]\n",
    "#test_acc_list.append(test_acc*100)\n",
    "print('Test accuracy: %.2f%%' % (test_acc * 100))\n",
    "\n"
   ]
  },
  {
   "cell_type": "code",
   "execution_count": 0,
   "metadata": {
    "colab": {},
    "colab_type": "code",
    "id": "ibkPSTTEC0L7",
    "outputId": "b142daa3-1aa0-4f19-a3a1-dafb8f1790d4"
   },
   "outputs": [
    {
     "data": {
      "image/png": "[encoded data removed]",
      "text/plain": [
       "<matplotlib.figure.Figure at 0x7f333e4055c0>"
      ]
     },
     "metadata": {
      "tags": []
     },
     "output_type": "display_data"
    }
   ],
   "source": [
    "iter = [ (i+1)*100 for i in range(1500 // 100)]\n",
    "plt.plot(iter, train_err, label='Training Error')\n",
    "plt.plot(iter, test_err, label='Test Error')\n",
    "#plt.yscale('log')\n",
    "#plt.ylim([0, 100])\n",
    "plt.ylabel('Error(%)')\n",
    "plt.xlabel('Epochs')\n",
    "plt.legend(loc='upper right')\n",
    "plt.tight_layout()\n",
    "plt.title(\"Neurons: {0} (error vs epoch)\".format(hidden))\n",
    "plt.show()"
   ]
  },
  {
   "cell_type": "markdown",
   "metadata": {
    "colab_type": "text",
    "id": "l0czD6HYbkx5"
   },
   "source": [
    "---"
   ]
  }
 ],
 "metadata": {
  "colab": {
   "collapsed_sections": [],
   "name": "Submission_10_-_2571210_Anilkumar_Erappanakoppal_Swamy.ipynb",
   "provenance": [],
   "version": "0.3.2"
  },
  "kernelspec": {
   "display_name": "Python 3",
   "language": "python",
   "name": "python3"
  },
  "language_info": {
   "codemirror_mode": {
    "name": "ipython",
    "version": 3
   },
   "file_extension": ".py",
   "mimetype": "text/x-python",
   "name": "python",
   "nbconvert_exporter": "python",
   "pygments_lexer": "ipython3",
   "version": "3.6.3"
  }
 },
 "nbformat": 4,
 "nbformat_minor": 1
}
